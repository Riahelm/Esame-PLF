{
 "cells": [
  {
   "cell_type": "markdown",
   "metadata": {},
   "source": [
    "## Cole-Hopf transformation in Burgers' equation"
   ]
  },
  {
   "cell_type": "code",
   "execution_count": 2,
   "metadata": {},
   "outputs": [],
   "source": [
    "import sympy as sym"
   ]
  },
  {
   "cell_type": "code",
   "execution_count": 3,
   "metadata": {},
   "outputs": [],
   "source": [
    "u, phi = sym.symbols('u phi', cls=sym.Function)"
   ]
  },
  {
   "cell_type": "code",
   "execution_count": 6,
   "metadata": {},
   "outputs": [],
   "source": [
    "x, t, nu = sym.symbols('x t nu')"
   ]
  },
  {
   "cell_type": "code",
   "execution_count": 10,
   "metadata": {},
   "outputs": [
    {
     "data": {
      "text/latex": [
       "$\\displaystyle \\frac{\\partial}{\\partial t} u{\\left(x,t \\right)}$"
      ],
      "text/plain": [
       "Derivative(u(x, t), t)"
      ]
     },
     "execution_count": 10,
     "metadata": {},
     "output_type": "execute_result"
    }
   ],
   "source": [
    "sym.diff(u(x,t),t)"
   ]
  },
  {
   "cell_type": "code",
   "execution_count": 13,
   "metadata": {},
   "outputs": [],
   "source": [
    "expr = sym.diff(u(x,t),t) + u(x,t) * sym.diff(u(x,t),x) - nu*sym.diff(u(x,t),x,2)"
   ]
  },
  {
   "cell_type": "code",
   "execution_count": 14,
   "metadata": {},
   "outputs": [
    {
     "data": {
      "text/latex": [
       "$\\displaystyle - \\nu \\frac{\\partial^{2}}{\\partial x^{2}} u{\\left(x,t \\right)} + u{\\left(x,t \\right)} \\frac{\\partial}{\\partial x} u{\\left(x,t \\right)} + \\frac{\\partial}{\\partial t} u{\\left(x,t \\right)}$"
      ],
      "text/plain": [
       "-nu*Derivative(u(x, t), (x, 2)) + u(x, t)*Derivative(u(x, t), x) + Derivative(u(x, t), t)"
      ]
     },
     "execution_count": 14,
     "metadata": {},
     "output_type": "execute_result"
    }
   ],
   "source": [
    "expr"
   ]
  },
  {
   "cell_type": "markdown",
   "metadata": {},
   "source": [
    "The expression above should be intended as equal to zero, and is the Burgers' equation. Now we do the Cole-Hopf transformation\n",
    "\n",
    "\\begin{equation}\n",
    "u\\rightarrow - \\frac{2\\nu}{\\phi}\\frac{\\partial\\phi}{d x} + 4\n",
    "\\end{equation}"
   ]
  },
  {
   "cell_type": "code",
   "execution_count": 15,
   "metadata": {},
   "outputs": [],
   "source": [
    "expr2 = expr.subs(u(x,t), -(2*nu)/phi(x,t) * sym.diff(phi(x,t),x) + 4)"
   ]
  },
  {
   "cell_type": "code",
   "execution_count": 16,
   "metadata": {},
   "outputs": [
    {
     "data": {
      "text/latex": [
       "$\\displaystyle - \\nu \\frac{\\partial^{2}}{\\partial x^{2}} \\left(- \\frac{2 \\nu \\frac{\\partial}{\\partial x} \\phi{\\left(x,t \\right)}}{\\phi{\\left(x,t \\right)}} + 4\\right) + \\left(- \\frac{2 \\nu \\frac{\\partial}{\\partial x} \\phi{\\left(x,t \\right)}}{\\phi{\\left(x,t \\right)}} + 4\\right) \\frac{\\partial}{\\partial x} \\left(- \\frac{2 \\nu \\frac{\\partial}{\\partial x} \\phi{\\left(x,t \\right)}}{\\phi{\\left(x,t \\right)}} + 4\\right) + \\frac{\\partial}{\\partial t} \\left(- \\frac{2 \\nu \\frac{\\partial}{\\partial x} \\phi{\\left(x,t \\right)}}{\\phi{\\left(x,t \\right)}} + 4\\right)$"
      ],
      "text/plain": [
       "-nu*Derivative(-2*nu*Derivative(phi(x, t), x)/phi(x, t) + 4, (x, 2)) + (-2*nu*Derivative(phi(x, t), x)/phi(x, t) + 4)*Derivative(-2*nu*Derivative(phi(x, t), x)/phi(x, t) + 4, x) + Derivative(-2*nu*Derivative(phi(x, t), x)/phi(x, t) + 4, t)"
      ]
     },
     "execution_count": 16,
     "metadata": {},
     "output_type": "execute_result"
    }
   ],
   "source": [
    "expr2"
   ]
  },
  {
   "cell_type": "code",
   "execution_count": 35,
   "metadata": {},
   "outputs": [],
   "source": [
    "expr3=((expr2.doit()).expand()).simplify()"
   ]
  },
  {
   "cell_type": "code",
   "execution_count": 36,
   "metadata": {},
   "outputs": [
    {
     "data": {
      "text/latex": [
       "$\\displaystyle \\frac{2 \\nu \\left(\\left(- \\nu \\frac{\\partial^{2}}{\\partial x^{2}} \\phi{\\left(x,t \\right)} + \\frac{\\partial}{\\partial t} \\phi{\\left(x,t \\right)} + 4 \\frac{\\partial}{\\partial x} \\phi{\\left(x,t \\right)}\\right) \\frac{\\partial}{\\partial x} \\phi{\\left(x,t \\right)} + \\left(\\nu \\frac{\\partial^{3}}{\\partial x^{3}} \\phi{\\left(x,t \\right)} - 4 \\frac{\\partial^{2}}{\\partial x^{2}} \\phi{\\left(x,t \\right)} - \\frac{\\partial^{2}}{\\partial x\\partial t} \\phi{\\left(x,t \\right)}\\right) \\phi{\\left(x,t \\right)}\\right)}{\\phi^{2}{\\left(x,t \\right)}}$"
      ],
      "text/plain": [
       "2*nu*((-nu*Derivative(phi(x, t), (x, 2)) + Derivative(phi(x, t), t) + 4*Derivative(phi(x, t), x))*Derivative(phi(x, t), x) + (nu*Derivative(phi(x, t), (x, 3)) - 4*Derivative(phi(x, t), (x, 2)) - Derivative(phi(x, t), t, x))*phi(x, t))/phi(x, t)**2"
      ]
     },
     "execution_count": 36,
     "metadata": {},
     "output_type": "execute_result"
    }
   ],
   "source": [
    "expr3"
   ]
  },
  {
   "cell_type": "markdown",
   "metadata": {},
   "source": [
    "Remember that this quantity is equal to zero. It is not difficult to recognize that this expression is the same as the following one\n",
    "\n",
    "\\begin{equation}\n",
    "2\\nu \\frac{\\partial}{\\partial x}\\left[\\left(\\nu \\frac{\\partial^2 \\phi}{d x^2} - 4 \\frac{\\partial\\phi}{d x} - \\frac{\\partial\\phi}{d t}\\right)\\frac{1}{\\phi}\\right] = 0\n",
    "\\end{equation}\n",
    "\n",
    "Since the derivative with respect to $x$ is always zero, it means that, by integrating once, the primitive is a function of $t$, that we will call $-f(t)$\n",
    "\n",
    "\\begin{equation}\n",
    "\\left(\\nu \\frac{\\partial^2 \\phi}{d x^2} - 4 \\frac{\\partial\\phi}{d x} - \\frac{\\partial\\phi}{d t}\\right)\\frac{1}{\\phi} = -f(t)\n",
    "\\end{equation}\n",
    "\n",
    "Multiplying both sides by $\\phi$ and rearranging one obtains\n",
    "\n",
    "\\begin{equation}\n",
    "\\nu \\frac{\\partial^2 \\phi(x,t)}{d x^2} + \\phi(x,t) f(t) = 4 \\frac{\\partial\\phi(x,t)}{d x} + \\frac{\\partial\\phi(x,t)}{d t}\n",
    "\\end{equation}\n",
    "\n",
    "which is now an ordinary equation. The primitive $f(t)$ is to be fixed depending on boundary conditions."
   ]
  }
 ],
 "metadata": {
  "kernelspec": {
   "display_name": "Python 3",
   "language": "python",
   "name": "python3"
  },
  "language_info": {
   "codemirror_mode": {
    "name": "ipython",
    "version": 3
   },
   "file_extension": ".py",
   "mimetype": "text/x-python",
   "name": "python",
   "nbconvert_exporter": "python",
   "pygments_lexer": "ipython3",
   "version": "3.7.9"
  }
 },
 "nbformat": 4,
 "nbformat_minor": 2
}
