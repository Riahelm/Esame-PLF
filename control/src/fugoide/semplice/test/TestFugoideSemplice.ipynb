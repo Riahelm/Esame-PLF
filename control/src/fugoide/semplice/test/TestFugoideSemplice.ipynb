{
  "nbformat": 4,
  "nbformat_minor": 0,
  "metadata": {
    "colab": {
      "provenance": []
    },
    "kernelspec": {
      "name": "python3",
      "display_name": "Python 3"
    },
    "language_info": {
      "name": "python"
    }
  },
  "cells": [
    {
      "cell_type": "code",
      "execution_count": 3,
      "metadata": {
        "colab": {
          "base_uri": "https://localhost:8080/"
        },
        "id": "vR83Ojlsp2AL",
        "outputId": "72792830-cd1c-4726-f6fd-fff06084419b"
      },
      "outputs": [
        {
          "output_type": "stream",
          "name": "stdout",
          "text": [
            "[100.         100.1        100.2        ...  96.60653005  96.71101708\n",
            "  96.81553741]\n"
          ]
        }
      ],
      "source": [
        "from math import sin, cos, log, ceil\n",
        "import numpy\n",
        "T = 100.0\n",
        "dt = 0.01\n",
        "N = int(T/dt) + 1\n",
        "t = numpy.linspace(0.0, T, N)\n",
        "\n",
        "# initial conditions\n",
        "y0 = 100.  #altitude\n",
        "b0  = 10.  #upward velocity resulting from gust\n",
        "zt = 100.\n",
        "g  = 9.81\n",
        "\n",
        "u = numpy.array([y0, b0])\n",
        "\n",
        "# initialize an array to hold the changing elevation values\n",
        "z = numpy.zeros(N)\n",
        "z[0] = y0\n",
        "\n",
        "# time-loop using Euler's method\n",
        "for n in range(1,N):\n",
        "    u = u + dt*numpy.array([u[1], g*(1-u[0]/zt)])\n",
        "    z[n] = u[0]\n",
        "\n",
        "print (z[:])"
      ]
    }
  ]
}