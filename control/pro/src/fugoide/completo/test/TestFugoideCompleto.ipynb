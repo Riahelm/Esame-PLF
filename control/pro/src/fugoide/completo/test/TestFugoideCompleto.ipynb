{
  "nbformat": 4,
  "nbformat_minor": 0,
  "metadata": {
    "colab": {
      "provenance": []
    },
    "kernelspec": {
      "name": "python3",
      "display_name": "Python 3"
    },
    "language_info": {
      "name": "python"
    }
  },
  "cells": [
    {
      "cell_type": "code",
      "execution_count": 11,
      "metadata": {
        "id": "ExF9XC5g2xdU",
        "colab": {
          "base_uri": "https://localhost:8080/"
        },
        "outputId": "f27b800c-89c8-4f55-c86f-ff33ce4cd4dd"
      },
      "outputs": [
        {
          "output_type": "stream",
          "name": "stdout",
          "text": [
            "[[ 3.00000000e+01  0.00000000e+00  0.00000000e+00  1.00000000e+03]\n",
            " [ 2.99997548e+01  0.00000000e+00  3.00000000e-02  1.00000000e+03]\n",
            " [ 2.99995095e+01 -5.34647185e-09  5.99997548e-02  1.00000000e+03]\n",
            " ...\n",
            " [ 2.98725185e+01 -2.95966328e-02  2.99698841e+03  9.25514604e+02]\n",
            " [ 2.98725656e+01 -2.95992740e-02  2.99701827e+03  9.25513720e+02]\n",
            " [ 2.98726128e+01 -2.96019142e-02  2.99704813e+03  9.25512836e+02]]\n"
          ]
        }
      ],
      "source": [
        "from math import sin, cos, log, ceil\n",
        "import numpy\n",
        "\n",
        "# model parameters:\n",
        "g = 9.81     # gravity in m s^{-2}\n",
        "v_t = 30.0   # trim velocity in m s^{-1}\n",
        "C_D = 1./40.  # drag coefficient --- or D/L if C_L=1\n",
        "C_L = 1.   # for convenience, use C_L = 1\n",
        "\n",
        "### set initial conditions ###\n",
        "v0 = v_t     # start at the trim velocity (or add a delta)\n",
        "theta0 = 0. # initial angle of trajectory\n",
        "x0 = 0.     # horizontal position is arbitrary\n",
        "y0 = 1000.  # initial altitude\n",
        "\n",
        "def f(u):\n",
        "    \"\"\"Returns the right-hand side of the phugoid system of equations.\n",
        "\n",
        "    Parameters\n",
        "    ----------\n",
        "    u : array of float\n",
        "        array containing the solution at time n.\n",
        "\n",
        "    Returns\n",
        "    -------\n",
        "    dudt : array of float\n",
        "        array containing the RHS given u.\n",
        "    \"\"\"\n",
        "\n",
        "    v = u[0]\n",
        "    theta = u[1]\n",
        "    x = u[2]\n",
        "    y = u[3]\n",
        "    return numpy.array([-g*sin(theta) - C_D/C_L*g/v_t**2*v**2,\n",
        "                      -g*cos(theta)/v + g/v_t**2*v,\n",
        "                      v*cos(theta),\n",
        "                      v*sin(theta)])\n",
        "\n",
        "def euler_step(u, f, dt):\n",
        "    return u + dt * f(u)\n",
        "\n",
        "T = 100                          # final time\n",
        "dt = 0.001                         # time increment\n",
        "N = int(T/dt)                    # number of time-steps\n",
        "t = numpy.linspace(0, T, N)      # time discretization\n",
        "\n",
        "# initialize the array containing the solution for each time-step\n",
        "u = numpy.empty((N, 4))\n",
        "u[0] = numpy.array([v0, theta0, x0, y0])# fill 1st element with initial values\n",
        "\n",
        "# time loop - Euler method\n",
        "# n cycles from 0 to N-2 included\n",
        "for n in range(N-1):\n",
        "    u[n+1] = euler_step(u[n], f, dt)\n",
        "\n",
        "print (u[:])\n"
      ]
    }
  ]
}