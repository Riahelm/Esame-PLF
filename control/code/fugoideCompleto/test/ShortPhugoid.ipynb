{
  "cells": [
    {
      "cell_type": "code",
      "execution_count": null,
      "metadata": {
        "id": "ExF9XC5g2xdU"
      },
      "outputs": [],
      "source": [
        "from math import sin, cos, log, ceil\n",
        "import numpy\n",
        "\n",
        "# model parameters:\n",
        "g = 9.81     # gravity in m s^{-2}\n",
        "v_t = 30.0   # trim velocity in m s^{-1}\n",
        "C_D = 1./40.  # drag coefficient --- or D/L if C_L=1\n",
        "C_L = 1.   # for convenience, use C_L = 1\n",
        "\n",
        "### set initial conditions ###\n",
        "v0 = v_t     # start at the trim velocity (or add a delta)\n",
        "theta0 = 0. # initial angle of trajectory\n",
        "x0 = 0.     # horizontal position is arbitrary\n",
        "y0 = 1000.  # initial altitude"
      ]
    },
    {
      "cell_type": "code",
      "execution_count": null,
      "metadata": {
        "id": "QHfAI4k828JH"
      },
      "outputs": [],
      "source": [
        "def f(u):\n",
        "    \"\"\"Returns the right-hand side of the phugoid system of equations.\n",
        "\n",
        "    Parameters\n",
        "    ----------\n",
        "    u : array of float\n",
        "        array containing the solution at time n.\n",
        "\n",
        "    Returns\n",
        "    -------\n",
        "    dudt : array of float\n",
        "        array containing the RHS given u.\n",
        "    \"\"\"\n",
        "\n",
        "    v = u[0]\n",
        "    theta = u[1]\n",
        "    x = u[2]\n",
        "    y = u[3]\n",
        "    return numpy.array([-g*sin(theta) - C_D/C_L*g/v_t**2*v**2,\n",
        "                      -g*cos(theta)/v + g/v_t**2*v,\n",
        "                      v*cos(theta),\n",
        "                      v*sin(theta)])"
      ]
    },
    {
      "cell_type": "code",
      "execution_count": null,
      "metadata": {
        "id": "F_klxSix3H0B"
      },
      "outputs": [],
      "source": [
        "def euler_step(u, f, dt):\n",
        "    return u + dt * f(u)"
      ]
    },
    {
      "cell_type": "code",
      "execution_count": null,
      "metadata": {
        "id": "pwKILhjC3KJx"
      },
      "outputs": [],
      "source": [
        "T = 100                          # final time\n",
        "dt = 0.1                         # time increment\n",
        "N = int(T/dt)                    # number of time-steps\n",
        "t = numpy.linspace(0, T, N)      # time discretization\n",
        "\n",
        "# initialize the array containing the solution for each time-step\n",
        "u = numpy.empty((N, 4))\n",
        "u[0] = numpy.array([v0, theta0, x0, y0])# fill 1st element with initial values\n",
        "\n",
        "# time loop - Euler method\n",
        "# n cycles from 0 to N-2 included\n",
        "for n in range(N-1):\n",
        "    u[n+1] = euler_step(u[n], f, dt)"
      ]
    },
    {
      "cell_type": "code",
      "execution_count": null,
      "metadata": {
        "colab": {
          "base_uri": "https://localhost:8080/"
        },
        "id": "wtU_dFO_XjLo",
        "outputId": "d6afa80d-94d3-4caf-a333-4c3623d6bee4"
      },
      "outputs": [
        {
          "name": "stdout",
          "output_type": "stream",
          "text": [
            "[[ 3.00000000e+01  0.00000000e+00  0.00000000e+00  1.00000000e+03]\n",
            " [ 2.99754750e+01  0.00000000e+00  3.00000000e+00  1.00000000e+03]\n",
            " [ 2.99509901e+01 -5.34863715e-05  5.99754750e+00  1.00000000e+03]\n",
            " ...\n",
            " [ 2.96104395e+01 -3.63254271e-02  2.98758370e+03  9.26549826e+02]\n",
            " [ 2.96221747e+01 -3.71583995e-02  2.99054279e+03  9.26442289e+02]\n",
            " [ 2.96347076e+01 -3.79644510e-02  2.99350297e+03  9.26332243e+02]]\n"
          ]
        }
      ],
      "source": [
        "print (u)\n"
      ]
    }
  ],
  "metadata": {
    "colab": {
      "provenance": []
    },
    "kernelspec": {
      "display_name": "Python 3",
      "name": "python3"
    },
    "language_info": {
      "name": "python"
    }
  },
  "nbformat": 4,
  "nbformat_minor": 0
}
